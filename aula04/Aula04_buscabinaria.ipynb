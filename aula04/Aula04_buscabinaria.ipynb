{
 "cells": [
  {
   "cell_type": "code",
   "execution_count": 21,
   "id": "f2901bc2-d4bb-47ae-8c57-3ab49fe21a01",
   "metadata": {},
   "outputs": [],
   "source": [
    "#assinatura\n",
    "def search_binary (num, list_ord):\n",
    "    #inicializar as variáveis\n",
    "    begin = 0\n",
    "    end = len(list_ord)-1\n",
    "    #looping de repetição\n",
    "    while begin <= end:\n",
    "        middle = (begin + end)//2\n",
    "        #verifições\n",
    "        if num == list_ord[middle]:\n",
    "            return middle\n",
    "        #verificações\n",
    "        elif num <= list_ord[middle]:\n",
    "            end = middle - 1\n",
    "        else:\n",
    "            begin = middle + 1\n",
    "    return -1\n",
    "    "
   ]
  },
  {
   "cell_type": "code",
   "execution_count": 27,
   "id": "58b96b71-5885-47e9-9706-63ab039aad04",
   "metadata": {},
   "outputs": [
    {
     "name": "stdout",
     "output_type": "stream",
     "text": [
      "O valor 18 foi encontrado na posição 8 !\n"
     ]
    }
   ],
   "source": [
    "# TESTANDO\n",
    "lista = [2, 4, 6, 8, 10, 12, 14, 16, 18, 19, 20, 21, 22]\n",
    "i = search_binary(18, lista)\n",
    "if i != -1:\n",
    "    print(f\"O valor {lista[i]} foi encontrado na posição {i} !\")\n",
    "else:\n",
    "    print(\"O valor não foi encontrado!\")"
   ]
  }
 ],
 "metadata": {
  "kernelspec": {
   "display_name": "Python [conda env:base] *",
   "language": "python",
   "name": "conda-base-py"
  },
  "language_info": {
   "codemirror_mode": {
    "name": "ipython",
    "version": 3
   },
   "file_extension": ".py",
   "mimetype": "text/x-python",
   "name": "python",
   "nbconvert_exporter": "python",
   "pygments_lexer": "ipython3",
   "version": "3.12.7"
  }
 },
 "nbformat": 4,
 "nbformat_minor": 5
}
